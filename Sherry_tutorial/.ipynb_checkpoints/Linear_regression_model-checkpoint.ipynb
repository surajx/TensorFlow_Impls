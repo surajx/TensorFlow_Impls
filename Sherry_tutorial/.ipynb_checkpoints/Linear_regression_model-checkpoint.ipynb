{
 "cells": [
  {
   "cell_type": "code",
   "execution_count": 1,
   "metadata": {},
   "outputs": [],
   "source": [
    "import tensorflow as tf\n",
    "import numpy as np\n",
    "\n",
    "%matplotlib inline\n",
    "import pylab"
   ]
  },
  {
   "cell_type": "code",
   "execution_count": 2,
   "metadata": {},
   "outputs": [
    {
     "data": {
      "text/plain": [
       "[<matplotlib.lines.Line2D at 0x7f5794aa8320>]"
      ]
     },
     "execution_count": 2,
     "metadata": {},
     "output_type": "execute_result"
    },
    {
     "data": {
      "image/png": "[encoded data removed]",
      "text/plain": [
       "<matplotlib.figure.Figure at 0x7f5796adacc0>"
      ]
     },
     "metadata": {},
     "output_type": "display_data"
    }
   ],
   "source": [
    "# Step 1: Obtain input data\n",
    "# Generate synthetic data with Gaussian noise\n",
    "x_data = np.random.rand(100).astype(np.float32)\n",
    "noise = np.random.normal(scale=0.01, size=len(x_data)) #Scale is the SD of the normal distribution.\n",
    "y_data = x_data * 0.1 + 0.3 + noise # assume linear source\n",
    "\n",
    "pylab.plot(x_data, y_data, '.')"
   ]
  },
  {
   "cell_type": "code",
   "execution_count": 3,
   "metadata": {},
   "outputs": [],
   "source": [
    "# Step 2: Build inference graph\n",
    "W = tf.get_variable(name='W', initializer=tf.random_uniform([1], 0.0, 1.0))\n",
    "b = tf.get_variable(name='b', initializer=tf.zeros([1]))\n",
    "y = W * x_data + b"
   ]
  },
  {
   "cell_type": "code",
   "execution_count": 4,
   "metadata": {},
   "outputs": [],
   "source": [
    "# print(W.name)\n",
    "# print(b.name)"
   ]
  },
  {
   "cell_type": "code",
   "execution_count": 5,
   "metadata": {},
   "outputs": [],
   "source": [
    "# Step 3: Build training graph\n",
    "loss = tf.reduce_mean(tf.square(y-y_data)) # create an operation that calculate mean-squared loss.\n",
    "optimizer = tf.train.AdadeltaOptimizer(learning_rate=0.9) # create an optimization operation.\n",
    "train = optimizer.minimize(loss) # create a training operation\n",
    "init = tf.global_variables_initializer() # create a variable initialization operator.\n",
    "\n",
    "# Note that at this point we have only built the graph, none of the operations are executed."
   ]
  },
  {
   "cell_type": "code",
   "execution_count": 6,
   "metadata": {},
   "outputs": [],
   "source": [
    "# print(tf.get_default_graph().as_graph_def())"
   ]
  },
  {
   "cell_type": "code",
   "execution_count": 7,
   "metadata": {},
   "outputs": [],
   "source": [
    "# Step 4: Create Session and launch graph\n",
    "sess = tf.Session()\n",
    "sess.run(init)\n",
    "y_initial_values = sess.run(y)"
   ]
  },
  {
   "cell_type": "code",
   "execution_count": 10,
   "metadata": {},
   "outputs": [
    {
     "name": "stdout",
     "output_type": "stream",
     "text": [
      "0 [array([ 0.49941811], dtype=float32), array([ 0.04747178], dtype=float32)]\n",
      "20 [array([ 0.4924095], dtype=float32), array([ 0.0521416], dtype=float32)]\n",
      "40 [array([ 0.48535851], dtype=float32), array([ 0.05681367], dtype=float32)]\n",
      "60 [array([ 0.47827449], dtype=float32), array([ 0.06148692], dtype=float32)]\n",
      "80 [array([ 0.47116527], dtype=float32), array([ 0.06616005], dtype=float32)]\n",
      "100 [array([ 0.46403715], dtype=float32), array([ 0.07083162], dtype=float32)]\n",
      "120 [array([ 0.45689595], dtype=float32), array([ 0.07550008], dtype=float32)]\n",
      "140 [array([ 0.44974661], dtype=float32), array([ 0.08016377], dtype=float32)]\n",
      "160 [array([ 0.44259346], dtype=float32), array([ 0.08482099], dtype=float32)]\n",
      "180 [array([ 0.4354406], dtype=float32), array([ 0.08947005], dtype=float32)]\n",
      "200 [array([ 0.42829168], dtype=float32), array([ 0.09410921], dtype=float32)]\n",
      "220 [array([ 0.42115015], dtype=float32), array([ 0.09873675], dtype=float32)]\n",
      "240 [array([ 0.41401938], dtype=float32), array([ 0.10335092], dtype=float32)]\n",
      "260 [array([ 0.40690234], dtype=float32), array([ 0.10795001], dtype=float32)]\n",
      "280 [array([ 0.39980218], dtype=float32), array([ 0.11253233], dtype=float32)]\n",
      "300 [array([ 0.39272177], dtype=float32), array([ 0.11709619], dtype=float32)]\n",
      "320 [array([ 0.38566399], dtype=float32), array([ 0.12163989], dtype=float32)]\n",
      "340 [array([ 0.37863159], dtype=float32), array([ 0.12616186], dtype=float32)]\n",
      "360 [array([ 0.37162724], dtype=float32), array([ 0.13066044], dtype=float32)]\n",
      "380 [array([ 0.36465365], dtype=float32), array([ 0.13513403], dtype=float32)]\n",
      "400 [array([ 0.3577134], dtype=float32), array([ 0.13958101], dtype=float32)]\n",
      "420 [array([ 0.35080916], dtype=float32), array([ 0.14399987], dtype=float32)]\n",
      "440 [array([ 0.34394339], dtype=float32), array([ 0.14838906], dtype=float32)]\n",
      "460 [array([ 0.33711854], dtype=float32), array([ 0.15274699], dtype=float32)]\n",
      "480 [array([ 0.33033717], dtype=float32), array([ 0.1570722], dtype=float32)]\n",
      "500 [array([ 0.32360157], dtype=float32), array([ 0.1613632], dtype=float32)]\n",
      "520 [array([ 0.31691435], dtype=float32), array([ 0.16561849], dtype=float32)]\n",
      "540 [array([ 0.31027776], dtype=float32), array([ 0.16983661], dtype=float32)]\n",
      "560 [array([ 0.30369422], dtype=float32), array([ 0.17401609], dtype=float32)]\n",
      "580 [array([ 0.29716596], dtype=float32), array([ 0.17815551], dtype=float32)]\n",
      "600 [array([ 0.29069531], dtype=float32), array([ 0.18225341], dtype=float32)]\n",
      "620 [array([ 0.28428474], dtype=float32), array([ 0.18630841], dtype=float32)]\n",
      "640 [array([ 0.27793637], dtype=float32), array([ 0.19031909], dtype=float32)]\n",
      "660 [array([ 0.27165255], dtype=float32), array([ 0.19428398], dtype=float32)]\n",
      "680 [array([ 0.26543552], dtype=float32), array([ 0.19820173], dtype=float32)]\n",
      "700 [array([ 0.25928757], dtype=float32), array([ 0.20207089], dtype=float32)]\n",
      "720 [array([ 0.25321096], dtype=float32), array([ 0.20589003], dtype=float32)]\n",
      "740 [array([ 0.24720779], dtype=float32), array([ 0.2096578], dtype=float32)]\n",
      "760 [array([ 0.24128047], dtype=float32), array([ 0.21337278], dtype=float32)]\n",
      "780 [array([ 0.23543128], dtype=float32), array([ 0.21703349], dtype=float32)]\n",
      "800 [array([ 0.22966251], dtype=float32), array([ 0.22063857], dtype=float32)]\n",
      "820 [array([ 0.2239764], dtype=float32), array([ 0.22418654], dtype=float32)]\n",
      "840 [array([ 0.21837531], dtype=float32), array([ 0.227676], dtype=float32)]\n",
      "860 [array([ 0.21286157], dtype=float32), array([ 0.2311054], dtype=float32)]\n",
      "880 [array([ 0.20743752], dtype=float32), array([ 0.23447329], dtype=float32)]\n",
      "900 [array([ 0.20210558], dtype=float32), array([ 0.23777816], dtype=float32)]\n",
      "920 [array([ 0.19686823], dtype=float32), array([ 0.24101843], dtype=float32)]\n",
      "940 [array([ 0.19172792], dtype=float32), array([ 0.24419262], dtype=float32)]\n",
      "960 [array([ 0.18668719], dtype=float32), array([ 0.24729909], dtype=float32)]\n",
      "980 [array([ 0.18174869], dtype=float32), array([ 0.25033617], dtype=float32)]\n",
      "1000 [array([ 0.17691508], dtype=float32), array([ 0.2533021], dtype=float32)]\n"
     ]
    }
   ],
   "source": [
    "# Step 5: Train the graph\n",
    "for step in range(1001):\n",
    "    sess.run(train)\n",
    "    if step % 20 == 0:\n",
    "        print(step, sess.run([W, b]))"
   ]
  },
  {
   "cell_type": "code",
   "execution_count": 11,
   "metadata": {},
   "outputs": [
    {
     "data": {
      "text/plain": [
       "<matplotlib.legend.Legend at 0x7f579492fa90>"
      ]
     },
     "execution_count": 11,
     "metadata": {},
     "output_type": "execute_result"
    },
    {
     "data": {
      "image/png": "[encoded data removed]",
      "text/plain": [
       "<matplotlib.figure.Figure at 0x7f5794978f98>"
      ]
     },
     "metadata": {},
     "output_type": "display_data"
    }
   ],
   "source": [
    "pylab.plot(x_data, y_data, '.', label=\"target_values\")\n",
    "# pylab.plot(x_data, y_initial_values, '.', label=\"initial_values\")\n",
    "pylab.plot(x_data, sess.run(y), '.', label=\"trained_values\")\n",
    "pylab.legend()\n",
    "# pylab.ylim(0, 1.0)"
   ]
  },
  {
   "cell_type": "code",
   "execution_count": null,
   "metadata": {},
   "outputs": [],
   "source": []
  }
 ],
 "metadata": {
  "kernelspec": {
   "display_name": "tensorflow",
   "language": "python",
   "name": "tensorflow"
  },
  "language_info": {
   "codemirror_mode": {
    "name": "ipython",
    "version": 3
   },
   "file_extension": ".py",
   "mimetype": "text/x-python",
   "name": "python",
   "nbconvert_exporter": "python",
   "pygments_lexer": "ipython3",
   "version": "3.5.2"
  }
 },
 "nbformat": 4,
 "nbformat_minor": 2
}
