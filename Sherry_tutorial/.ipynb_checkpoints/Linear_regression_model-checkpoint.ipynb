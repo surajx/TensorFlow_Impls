{
 "cells": [
  {
   "cell_type": "code",
   "execution_count": 1,
   "metadata": {},
   "outputs": [],
   "source": [
    "import tensorflow as tf\n",
    "import numpy as np\n",
    "\n",
    "%matplotlib inline\n",
    "import pylab"
   ]
  },
  {
   "cell_type": "code",
   "execution_count": 2,
   "metadata": {},
   "outputs": [
    {
     "data": {
      "text/plain": [
       "[<matplotlib.lines.Line2D at 0x7f87297e92b0>]"
      ]
     },
     "execution_count": 2,
     "metadata": {},
     "output_type": "execute_result"
    },
    {
     "data": {
      "image/png": "[encoded data removed]",
      "text/plain": [
       "<matplotlib.figure.Figure at 0x7f872b819c50>"
      ]
     },
     "metadata": {},
     "output_type": "display_data"
    }
   ],
   "source": [
    "# Step 1: Obtain input data\n",
    "# Generate synthetic data with Gaussian noise\n",
    "x_data = np.random.rand(100).astype(np.float32)\n",
    "noise = np.random.normal(scale=0.01, size=len(x_data)) #Scale is the SD of the normal distribution.\n",
    "y_data = x_data * 0.1 + 0.3 + noise # assume linear source\n",
    "\n",
    "pylab.plot(x_data, y_data, '.')"
   ]
  },
  {
   "cell_type": "code",
   "execution_count": 3,
   "metadata": {},
   "outputs": [],
   "source": [
    "# Step 2: Build inference graph\n",
    "W = tf.get_variable(name='W', initializer=tf.random_uniform([1], 0.0, 1.0))\n",
    "b = tf.get_variable(name='b', initializer=tf.zeros([1]))\n",
    "y = W * x_data + b"
   ]
  },
  {
   "cell_type": "code",
   "execution_count": 4,
   "metadata": {},
   "outputs": [],
   "source": [
    "# print(W.name)\n",
    "# print(b.name)"
   ]
  },
  {
   "cell_type": "code",
   "execution_count": 5,
   "metadata": {},
   "outputs": [],
   "source": [
    "# Step 3: Build training graph\n",
    "loss = tf.reduce_mean(tf.square(y-y_data), name='loss') # create an operation that calculate mean-squared loss.\n",
    "optimizer = tf.train.GradientDescentOptimizer(learning_rate=0.5, name='optimizer') # create an optimization operation.\n",
    "train = optimizer.minimize(loss, name='train') # create a training operation\n",
    "init = tf.global_variables_initializer() # create a variable initialization operator.\n",
    "\n",
    "# Note that at this point we have only built the graph, none of the operations are executed."
   ]
  },
  {
   "cell_type": "code",
   "execution_count": 6,
   "metadata": {},
   "outputs": [],
   "source": [
    "# print(tf.get_default_graph().as_graph_def())"
   ]
  },
  {
   "cell_type": "code",
   "execution_count": 7,
   "metadata": {},
   "outputs": [],
   "source": [
    "# Step 4: Create Session and launch graph\n",
    "sess = tf.Session()\n",
    "sess.run(init)\n",
    "y_initial_values = sess.run(y)"
   ]
  },
  {
   "cell_type": "code",
   "execution_count": 8,
   "metadata": {},
   "outputs": [
    {
     "name": "stdout",
     "output_type": "stream",
     "text": [
      "0 [array([ 0.48736203], dtype=float32), array([ 0.08613209], dtype=float32)]\n",
      "20 [array([ 0.22341783], dtype=float32), array([ 0.2236477], dtype=float32)]\n",
      "40 [array([ 0.14314786], dtype=float32), array([ 0.273702], dtype=float32)]\n",
      "60 [array([ 0.11755788], dtype=float32), array([ 0.28965923], dtype=float32)]\n",
      "80 [array([ 0.10939981], dtype=float32), array([ 0.2947464], dtype=float32)]\n",
      "100 [array([ 0.10679907], dtype=float32), array([ 0.29636815], dtype=float32)]\n",
      "120 [array([ 0.10596994], dtype=float32), array([ 0.29688516], dtype=float32)]\n",
      "140 [array([ 0.10570562], dtype=float32), array([ 0.29705], dtype=float32)]\n",
      "160 [array([ 0.10562135], dtype=float32), array([ 0.29710254], dtype=float32)]\n",
      "180 [array([ 0.1055945], dtype=float32), array([ 0.29711929], dtype=float32)]\n",
      "200 [array([ 0.10558593], dtype=float32), array([ 0.29712462], dtype=float32)]\n"
     ]
    }
   ],
   "source": [
    "# Step 5: Train the graph\n",
    "for step in range(201):\n",
    "    sess.run(train)\n",
    "    if step % 20 == 0:\n",
    "        print(step, sess.run([W, b]))"
   ]
  },
  {
   "cell_type": "code",
   "execution_count": 9,
   "metadata": {},
   "outputs": [
    {
     "data": {
      "text/plain": [
       "<matplotlib.legend.Legend at 0x7f87296f99e8>"
      ]
     },
     "execution_count": 9,
     "metadata": {},
     "output_type": "execute_result"
    },
    {
     "data": {
      "image/png": "[encoded data removed]",
      "text/plain": [
       "<matplotlib.figure.Figure at 0x7f87296c3b38>"
      ]
     },
     "metadata": {},
     "output_type": "display_data"
    }
   ],
   "source": [
    "pylab.plot(x_data, y_data, '.', label=\"target_values\")\n",
    "# pylab.plot(x_data, y_initial_values, '.', label=\"initial_values\")\n",
    "pylab.plot(x_data, sess.run(y), '.', label=\"trained_values\")\n",
    "pylab.legend()\n",
    "# pylab.ylim(0, 1.0)"
   ]
  },
  {
   "cell_type": "code",
   "execution_count": 10,
   "metadata": {},
   "outputs": [],
   "source": [
    "writer = tf.summary.FileWriter('./my_graph', sess.graph)"
   ]
  },
  {
   "cell_type": "code",
   "execution_count": 11,
   "metadata": {},
   "outputs": [],
   "source": [
    "writer.close()\n",
    "sess.close()"
   ]
  },
  {
   "cell_type": "code",
   "execution_count": null,
   "metadata": {},
   "outputs": [],
   "source": []
  }
 ],
 "metadata": {
  "kernelspec": {
   "display_name": "tensorflow",
   "language": "python",
   "name": "tensorflow"
  },
  "language_info": {
   "codemirror_mode": {
    "name": "ipython",
    "version": 3
   },
   "file_extension": ".py",
   "mimetype": "text/x-python",
   "name": "python",
   "nbconvert_exporter": "python",
   "pygments_lexer": "ipython3",
   "version": "3.5.2"
  }
 },
 "nbformat": 4,
 "nbformat_minor": 2
}
