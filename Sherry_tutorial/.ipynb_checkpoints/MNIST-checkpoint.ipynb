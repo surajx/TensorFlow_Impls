{
 "cells": [
  {
   "cell_type": "code",
   "execution_count": 1,
   "metadata": {},
   "outputs": [],
   "source": [
    "import os\n",
    "import math\n",
    "\n",
    "import numpy as np\n",
    "\n",
    "from six.moves import xrange\n",
    "import tensorflow as tf\n",
    "\n",
    "# import Dataset\n",
    "from tensorflow.contrib.learn.python.learn.datasets.mnist import read_data_sets\n",
    "\n",
    "%matplotlib inline\n",
    "import matplotlib.pyplot as plt"
   ]
  },
  {
   "cell_type": "code",
   "execution_count": 2,
   "metadata": {},
   "outputs": [],
   "source": [
    "# Constants\n",
    "NUM_CLASSES = 10  # Classify into each one of 0...9 digits.\n",
    "\n",
    "IMAGE_SIZE = 28  # Square images with resolution 28 x 28\n",
    "IMAGE_PIXELS = IMAGE_SIZE * IMAGE_SIZE\n",
    "\n",
    "# Batch Size\n",
    "BATCH_SIZE = 100  # Must be evenly dividable with the total data size.\n",
    "EVAL_BATCH_SIZE = 1\n",
    "\n",
    "# Hidden Layer\n",
    "HIDDEN_1_UNITS = 128\n",
    "HIDDEN_2_UNITS = 32\n",
    "\n",
    "MAX_STEPS = 2000  # Max Training Steps.\n",
    "\n",
    "TRAIN_DIR = '/tmp/mnist'  # Dir to put training data"
   ]
  },
  {
   "cell_type": "code",
   "execution_count": 3,
   "metadata": {},
   "outputs": [
    {
     "name": "stdout",
     "output_type": "stream",
     "text": [
      "Extracting /tmp/mnist/train-images-idx3-ubyte.gz\n",
      "Extracting /tmp/mnist/train-labels-idx1-ubyte.gz\n",
      "Extracting /tmp/mnist/t10k-images-idx3-ubyte.gz\n",
      "Extracting /tmp/mnist/t10k-labels-idx1-ubyte.gz\n"
     ]
    }
   ],
   "source": [
    "# Step 1: Get/Load input data\n",
    "data_sets = read_data_sets(TRAIN_DIR, False)"
   ]
  },
  {
   "cell_type": "code",
   "execution_count": 4,
   "metadata": {},
   "outputs": [],
   "source": [
    "# Step 2: Build Inference Graph\n",
    "def dynamic_layer_builder():\n",
    "    pass\n",
    "\n",
    "\n",
    "def get_weight_and_biases(shape):\n",
    "    # Samples from truncated normal are bounded at two stddev to either side\n",
    "    # of the mean. \n",
    "    # Initialization Justifications:\n",
    "    # 1. Random initialization helps break symmetry between learned features.\n",
    "    # 2. Bounded values(truncated) help to control the magnitude of the gradients, resulting in better convergence.\n",
    "    # 3. ReLU adjusted Xavier Initialization var[W_i] = \\sqrt{2/(number of inputs to neuron)} [1][2][3][4]\n",
    "    # [1] https://arxiv.org/pdf/1502.01852.pdf\n",
    "    # [2] http://proceedings.mlr.press/v9/glorot10a/glorot10a.pdf\n",
    "    # [3] http://andyljones.tumblr.com/post/110998971763/an-explanation-of-xavier-initialization\n",
    "    # [4] http://deepdish.io/2015/02/24/network-initialization\n",
    "    weights = tf.Variable(\n",
    "        tf.truncated_normal(shape, stddev=math.sqrt(2.0/float(shape[0]))),\n",
    "        name=\"weights\")\n",
    "    biases = tf.Variable(tf.zeros([shape[1]]), name=\"biases\")\n",
    "    return weights, biases\n",
    "\n",
    "\n",
    "def mnist_inference(batch_images):\n",
    "    # Isolate variable names to the context of a single layer.\n",
    "    with tf.name_scope('hidden_layer_1'):\n",
    "        weights, biases = get_weight_and_biases([IMAGE_PIXELS, HIDDEN_1_UNITS])\n",
    "        hidden_1_op = tf.nn.relu(tf.matmul(batch_images, weights) + biases)\n",
    "    with tf.name_scope('hiddel_layer_2'):\n",
    "        weights, biases = get_weight_and_biases(\n",
    "            [HIDDEN_1_UNITS, HIDDEN_2_UNITS])\n",
    "        hidden_2_op = tf.nn.relu(tf.matmul(hidden_1_op, weights) + biases)\n",
    "    with tf.name_scope('logit_layer'):\n",
    "        weights, biases = get_weight_and_biases([HIDDEN_2_UNITS, NUM_CLASSES])\n",
    "        logits = tf.matmul(hidden_2_op, weights) + biases\n",
    "    tf.train.write_graph(\n",
    "        tf.get_default_graph().as_graph_def(),\n",
    "        \"/home/surajx/tmp/mnist_graph\",\n",
    "        \"inference.pbtxt\",\n",
    "        as_text=True)\n",
    "    return logits"
   ]
  },
  {
   "cell_type": "code",
   "execution_count": 5,
   "metadata": {},
   "outputs": [],
   "source": [
    "# Step 3: Build training graph\n",
    "def mnist_train_graph(logits, labels, learning_rate):\n",
    "    labels = tf.to_int64(labels)\n",
    "    cross_entropy = tf.nn.sparse_softmax_cross_entropy_with_logits(\n",
    "        logits=logits, labels=labels, name='xentropy')\n",
    "    loss = tf.reduce_mean(cross_entropy, name='xentropy_mean')\n",
    "    optimizer = tf.train.GradientDescentOptimizer(learning_rate)\n",
    "    global_step = tf.Variable(0, name='global_step', trainable=False)\n",
    "    train = optimizer.minimize(loss, global_step=global_step)\n",
    "\n",
    "    tf.train.write_graph(\n",
    "        tf.get_default_graph().as_graph_def(),\n",
    "        \"/home/surajx/tmp/mnist_graph\",\n",
    "        \"train.pbtxt\",\n",
    "        as_text=True)\n",
    "    return train, loss"
   ]
  },
  {
   "cell_type": "code",
   "execution_count": 6,
   "metadata": {},
   "outputs": [],
   "source": [
    "# Step 4: Build graph for data input\n",
    "mnist_graph = tf.Graph()\n",
    "with mnist_graph.as_default():\n",
    "    images_placeholder = tf.placeholder(tf.float32)\n",
    "    labels_placeholder = tf.placeholder(tf.int32)\n",
    "    tf.add_to_collection(\"images\", images_placeholder)\n",
    "    tf.add_to_collection(\"labels\", labels_placeholder)\n",
    "\n",
    "    logits = mnist_inference(images_placeholder)\n",
    "\n",
    "    tf.add_to_collection(\"logits\", logits)\n",
    "\n",
    "    train, loss = mnist_train_graph(logits, labels_placeholder, 0.01)\n",
    "\n",
    "    init = tf.global_variables_initializer()\n",
    "\n",
    "    saver = tf.train.Saver()\n",
    "\n",
    "    tf.train.write_graph(\n",
    "        tf.get_default_graph().as_graph_def(),\n",
    "        \"/home/surajx/tmp/mnist_graph\",\n",
    "        \"complete.pbtxt\",\n",
    "        as_text=True)"
   ]
  },
  {
   "cell_type": "code",
   "execution_count": 7,
   "metadata": {},
   "outputs": [
    {
     "name": "stdout",
     "output_type": "stream",
     "text": [
      "Step 0: loss = 2.39\n",
      "Step 1000: loss = 0.27\n"
     ]
    }
   ],
   "source": [
    "# Step 5: Train the graph\n",
    "with tf.Session(graph=mnist_graph) as sess:\n",
    "    sess.run(init)\n",
    "\n",
    "    for step in xrange(MAX_STEPS):\n",
    "        images_feed, labels_feed = data_sets.train.next_batch(BATCH_SIZE)\n",
    "        _, loss_value = sess.run(\n",
    "            [train, loss],\n",
    "            feed_dict={\n",
    "                images_placeholder: images_feed,\n",
    "                labels_placeholder: labels_feed\n",
    "            })\n",
    "        if step % 1000 == 0:\n",
    "            print('Step %d: loss = %.2f' % (step, loss_value))\n",
    "    checkpoint_file = os.path.join(TRAIN_DIR, 'checkpoint')\n",
    "    saver.save(sess, checkpoint_file, global_step=step)"
   ]
  },
  {
   "cell_type": "code",
   "execution_count": 8,
   "metadata": {},
   "outputs": [
    {
     "name": "stdout",
     "output_type": "stream",
     "text": [
      "INFO:tensorflow:Restoring parameters from /tmp/mnist/checkpoint-1999\n",
      "Ground truth: 9\n",
      "Prediction: 9\n"
     ]
    },
    {
     "data": {
      "image/png": "[encoded data removed]",
      "text/plain": [
       "<matplotlib.figure.Figure at 0x7fc6e87487f0>"
      ]
     },
     "metadata": {},
     "output_type": "display_data"
    }
   ],
   "source": [
    "with tf.Session(graph=tf.Graph()) as sess:\n",
    "    saver = tf.train.import_meta_graph(\n",
    "        os.path.join(TRAIN_DIR, \"checkpoint-1999.meta\"))\n",
    "    saver.restore(sess, os.path.join(TRAIN_DIR, \"checkpoint-1999\"))\n",
    "\n",
    "    # Retrieve the Ops we 'remembered'.\n",
    "    logits = tf.get_collection(\"logits\")[0]\n",
    "    images_placeholder = tf.get_collection(\"images\")[0]\n",
    "    labels_placeholder = tf.get_collection(\"labels\")[0]\n",
    "\n",
    "    # Add an Op that chooses the top k predictions.\n",
    "    eval_op = tf.nn.top_k(logits)\n",
    "\n",
    "    # Run evaluation.\n",
    "#     for step in xrange(20):\n",
    "    images_feed, labels_feed = data_sets.validation.next_batch(EVAL_BATCH_SIZE)\n",
    "    imgplot = plt.imshow(np.reshape(images_feed, (28, 28)))\n",
    "    prediction = sess.run(\n",
    "        eval_op,\n",
    "        feed_dict={\n",
    "            images_placeholder: images_feed,\n",
    "            labels_placeholder: labels_feed\n",
    "        })\n",
    "    print(\"Ground truth: %d\\nPrediction: %d\" % (labels_feed,\n",
    "                                                prediction.indices[0][0]))"
   ]
  }
 ],
 "metadata": {
  "kernelspec": {
   "display_name": "tensorflow",
   "language": "python",
   "name": "tensorflow"
  },
  "language_info": {
   "codemirror_mode": {
    "name": "ipython",
    "version": 3
   },
   "file_extension": ".py",
   "mimetype": "text/x-python",
   "name": "python",
   "nbconvert_exporter": "python",
   "pygments_lexer": "ipython3",
   "version": "3.5.2"
  }
 },
 "nbformat": 4,
 "nbformat_minor": 2
}
