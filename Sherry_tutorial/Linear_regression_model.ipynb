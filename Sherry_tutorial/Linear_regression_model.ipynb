{
 "cells": [
  {
   "cell_type": "code",
   "execution_count": 1,
   "metadata": {},
   "outputs": [],
   "source": [
    "import tensorflow as tf\n",
    "import numpy as np\n",
    "\n",
    "%matplotlib inline\n",
    "import pylab"
   ]
  },
  {
   "cell_type": "code",
   "execution_count": 2,
   "metadata": {},
   "outputs": [
    {
     "data": {
      "text/plain": [
       "[<matplotlib.lines.Line2D at 0x7f17fc168320>]"
      ]
     },
     "execution_count": 2,
     "metadata": {},
     "output_type": "execute_result"
    },
    {
     "data": {
      "image/png": "[encoded data removed]",
      "text/plain": [
       "<matplotlib.figure.Figure at 0x7f17fe19acc0>"
      ]
     },
     "metadata": {},
     "output_type": "display_data"
    }
   ],
   "source": [
    "# Step 1: Obtain input data\n",
    "# Generate synthetic data with Gaussian noise\n",
    "x_data = np.random.rand(100).astype(np.float32)\n",
    "noise = np.random.normal(scale=0.01, size=len(x_data)) #Scale is the SD of the normal distribution.\n",
    "y_data = x_data * 0.1 + 0.3 + noise # assume linear source\n",
    "\n",
    "pylab.plot(x_data, y_data, '.')"
   ]
  },
  {
   "cell_type": "code",
   "execution_count": 3,
   "metadata": {},
   "outputs": [],
   "source": [
    "# Step 2: Build inference graph\n",
    "W = tf.get_variable(name='W', initializer=tf.random_uniform([1], 0.0, 1.0))\n",
    "b = tf.get_variable(name='b', initializer=tf.zeros([1]))\n",
    "y = tf.add(x=tf.multiply(x=W, y=x_data, name='multiply'), y=b, name='addition')"
   ]
  },
  {
   "cell_type": "code",
   "execution_count": 4,
   "metadata": {},
   "outputs": [],
   "source": [
    "# print(W.name)\n",
    "# print(b.name)"
   ]
  },
  {
   "cell_type": "code",
   "execution_count": 5,
   "metadata": {},
   "outputs": [],
   "source": [
    "# Step 3: Build training graph\n",
    "loss = tf.reduce_mean(tf.square(y-y_data), name='loss') # create an operation that calculate mean-squared loss.\n",
    "optimizer = tf.train.GradientDescentOptimizer(learning_rate=0.5, name='optimizer') # create an optimization operation.\n",
    "train = optimizer.minimize(loss, name='train') # create a training operation\n",
    "init = tf.global_variables_initializer() # create a variable initialization operator.\n",
    "\n",
    "# Note that at this point we have only built the graph, none of the operations are executed."
   ]
  },
  {
   "cell_type": "code",
   "execution_count": 6,
   "metadata": {},
   "outputs": [],
   "source": [
    "# print(tf.get_default_graph().as_graph_def())"
   ]
  },
  {
   "cell_type": "code",
   "execution_count": 7,
   "metadata": {},
   "outputs": [],
   "source": [
    "# Step 4: Create Session and launch graph\n",
    "sess = tf.Session()\n",
    "sess.run(init)\n",
    "y_initial_values = sess.run(y)"
   ]
  },
  {
   "cell_type": "code",
   "execution_count": 8,
   "metadata": {},
   "outputs": [
    {
     "name": "stdout",
     "output_type": "stream",
     "text": [
      "0 [array([ 0.17268911], dtype=float32), array([ 0.34825492], dtype=float32)]\n",
      "20 [array([ 0.11392207], dtype=float32), array([ 0.29614079], dtype=float32)]\n",
      "40 [array([ 0.10735538], dtype=float32), array([ 0.29941115], dtype=float32)]\n",
      "60 [array([ 0.1057153], dtype=float32), array([ 0.30022794], dtype=float32)]\n",
      "80 [array([ 0.10530568], dtype=float32), array([ 0.30043194], dtype=float32)]\n",
      "100 [array([ 0.10520336], dtype=float32), array([ 0.3004829], dtype=float32)]\n",
      "120 [array([ 0.10517779], dtype=float32), array([ 0.30049562], dtype=float32)]\n",
      "140 [array([ 0.10517142], dtype=float32), array([ 0.30049878], dtype=float32)]\n",
      "160 [array([ 0.10516983], dtype=float32), array([ 0.30049959], dtype=float32)]\n",
      "180 [array([ 0.10516945], dtype=float32), array([ 0.3004998], dtype=float32)]\n",
      "200 [array([ 0.1051694], dtype=float32), array([ 0.3004998], dtype=float32)]\n"
     ]
    }
   ],
   "source": [
    "# Step 5: Train the graph\n",
    "for step in range(201):\n",
    "    sess.run(train)\n",
    "    if step % 20 == 0:\n",
    "        print(step, sess.run([W, b]))"
   ]
  },
  {
   "cell_type": "code",
   "execution_count": 9,
   "metadata": {},
   "outputs": [
    {
     "data": {
      "text/plain": [
       "<matplotlib.legend.Legend at 0x7f17fc079da0>"
      ]
     },
     "execution_count": 9,
     "metadata": {},
     "output_type": "execute_result"
    },
    {
     "data": {
      "image/png": "[encoded data removed]",
      "text/plain": [
       "<matplotlib.figure.Figure at 0x7f17fc03ff28>"
      ]
     },
     "metadata": {},
     "output_type": "display_data"
    }
   ],
   "source": [
    "pylab.plot(x_data, y_data, '.', label=\"target_values\")\n",
    "# pylab.plot(x_data, y_initial_values, '.', label=\"initial_values\")\n",
    "pylab.plot(x_data, sess.run(y), '.', label=\"trained_values\")\n",
    "pylab.legend()\n",
    "# pylab.ylim(0, 1.0)"
   ]
  },
  {
   "cell_type": "code",
   "execution_count": 10,
   "metadata": {},
   "outputs": [],
   "source": [
    "writer = tf.summary.FileWriter('./my_graph', sess.graph)"
   ]
  },
  {
   "cell_type": "code",
   "execution_count": 11,
   "metadata": {},
   "outputs": [],
   "source": [
    "writer.close()\n",
    "sess.close()"
   ]
  },
  {
   "cell_type": "code",
   "execution_count": null,
   "metadata": {},
   "outputs": [],
   "source": []
  }
 ],
 "metadata": {
  "kernelspec": {
   "display_name": "tensorflow",
   "language": "python",
   "name": "tensorflow"
  },
  "language_info": {
   "codemirror_mode": {
    "name": "ipython",
    "version": 3
   },
   "file_extension": ".py",
   "mimetype": "text/x-python",
   "name": "python",
   "nbconvert_exporter": "python",
   "pygments_lexer": "ipython3",
   "version": "3.5.2"
  }
 },
 "nbformat": 4,
 "nbformat_minor": 2
}
