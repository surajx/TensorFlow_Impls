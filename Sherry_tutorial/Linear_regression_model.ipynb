{
 "cells": [
  {
   "cell_type": "code",
   "execution_count": 1,
   "metadata": {},
   "outputs": [],
   "source": [
    "import tensorflow as tf\n",
    "import numpy as np\n",
    "\n",
    "%matplotlib inline\n",
    "import pylab"
   ]
  },
  {
   "cell_type": "code",
   "execution_count": 2,
   "metadata": {},
   "outputs": [
    {
     "data": {
      "text/plain": [
       "[<matplotlib.lines.Line2D at 0x7fd5b79692e8>]"
      ]
     },
     "execution_count": 2,
     "metadata": {},
     "output_type": "execute_result"
    },
    {
     "data": {
      "image/png": "[encoded data removed]",
      "text/plain": [
       "<matplotlib.figure.Figure at 0x7fd6259937b8>"
      ]
     },
     "metadata": {},
     "output_type": "display_data"
    }
   ],
   "source": [
    "# Step 1: Obtain input data\n",
    "# Generate synthetic data with Gaussian noise\n",
    "x_data = np.random.rand(100).astype(np.float32)\n",
    "noise = np.random.normal(scale=0.01, size=len(x_data)) #Scale is the SD of the normal distribution.\n",
    "y_data = x_data * 0.1 + 0.3 + noise # assume linear source\n",
    "\n",
    "pylab.plot(x_data, y_data, '.')"
   ]
  },
  {
   "cell_type": "code",
   "execution_count": 3,
   "metadata": {},
   "outputs": [],
   "source": [
    "# Step 2: Build inference graph\n",
    "W = tf.get_variable(name='W', initializer=tf.random_uniform([1], 0.0, 1.0))\n",
    "b = tf.get_variable(name='b', initializer=tf.zeros([1]))\n",
    "y = W * x_data + b"
   ]
  },
  {
   "cell_type": "code",
   "execution_count": 4,
   "metadata": {},
   "outputs": [],
   "source": [
    "# print(W.name)\n",
    "# print(b.name)"
   ]
  },
  {
   "cell_type": "code",
   "execution_count": 5,
   "metadata": {},
   "outputs": [],
   "source": [
    "# Step 3: Build training graph\n",
    "loss = tf.reduce_mean(tf.square(y-y_data)) # create an operation that calculate mean-squared loss.\n",
    "optimizer = tf.train.AdadeltaOptimizer(learning_rate=0.5) # create an optimization operation.\n",
    "train = optimizer.minimize(loss) # create a training operation\n",
    "init = tf.global_variables_initializer() # create a variable initialization operator.\n",
    "\n",
    "# Note that at this point we have only built the graph, none of the operations are executed."
   ]
  },
  {
   "cell_type": "code",
   "execution_count": 6,
   "metadata": {},
   "outputs": [],
   "source": [
    "# print(tf.get_default_graph().as_graph_def())"
   ]
  },
  {
   "cell_type": "code",
   "execution_count": 7,
   "metadata": {},
   "outputs": [],
   "source": [
    "# Step 4: Create Session and launch graph\n",
    "sess = tf.Session()\n",
    "sess.run(init)\n",
    "y_initial_values = sess.run(y)"
   ]
  },
  {
   "cell_type": "code",
   "execution_count": 8,
   "metadata": {},
   "outputs": [
    {
     "name": "stdout",
     "output_type": "stream",
     "text": [
      "0 [array([ 0.35673004], dtype=float32), array([  6.32454685e-05], dtype=float32)]\n",
      "20 [array([ 0.35771519], dtype=float32), array([ 0.00105038], dtype=float32)]\n",
      "40 [array([ 0.35868135], dtype=float32), array([ 0.00202252], dtype=float32)]\n",
      "60 [array([ 0.35965362], dtype=float32), array([ 0.00300495], dtype=float32)]\n",
      "80 [array([ 0.36063248], dtype=float32), array([ 0.00399826], dtype=float32)]\n",
      "100 [array([ 0.36161757], dtype=float32), array([ 0.00500219], dtype=float32)]\n",
      "120 [array([ 0.3626084], dtype=float32), array([ 0.00601632], dtype=float32)]\n",
      "140 [array([ 0.36360449], dtype=float32), array([ 0.00704023], dtype=float32)]\n",
      "160 [array([ 0.36460534], dtype=float32), array([ 0.00807347], dtype=float32)]\n",
      "180 [array([ 0.36561036], dtype=float32), array([ 0.00911561], dtype=float32)]\n",
      "200 [array([ 0.3666192], dtype=float32), array([ 0.01016623], dtype=float32)]\n",
      "220 [array([ 0.36763126], dtype=float32), array([ 0.01122493], dtype=float32)]\n",
      "240 [array([ 0.36864612], dtype=float32), array([ 0.0122913], dtype=float32)]\n",
      "260 [array([ 0.36966324], dtype=float32), array([ 0.01336496], dtype=float32)]\n",
      "280 [array([ 0.37068215], dtype=float32), array([ 0.01444552], dtype=float32)]\n",
      "300 [array([ 0.37170243], dtype=float32), array([ 0.01553261], dtype=float32)]\n",
      "320 [array([ 0.37272367], dtype=float32), array([ 0.01662588], dtype=float32)]\n",
      "340 [array([ 0.37374529], dtype=float32), array([ 0.01772498], dtype=float32)]\n",
      "360 [array([ 0.37476692], dtype=float32), array([ 0.01882955], dtype=float32)]\n",
      "380 [array([ 0.37578821], dtype=float32), array([ 0.01993925], dtype=float32)]\n",
      "400 [array([ 0.37680864], dtype=float32), array([ 0.02105377], dtype=float32)]\n",
      "420 [array([ 0.37782782], dtype=float32), array([ 0.02217278], dtype=float32)]\n",
      "440 [array([ 0.37884524], dtype=float32), array([ 0.02329595], dtype=float32)]\n",
      "460 [array([ 0.37986058], dtype=float32), array([ 0.024423], dtype=float32)]\n",
      "480 [array([ 0.38087335], dtype=float32), array([ 0.0255536], dtype=float32)]\n",
      "500 [array([ 0.38188317], dtype=float32), array([ 0.02668747], dtype=float32)]\n",
      "520 [array([ 0.3828896], dtype=float32), array([ 0.02782432], dtype=float32)]\n",
      "540 [array([ 0.38389224], dtype=float32), array([ 0.02896387], dtype=float32)]\n",
      "560 [array([ 0.38489071], dtype=float32), array([ 0.03010583], dtype=float32)]\n",
      "580 [array([ 0.38588455], dtype=float32), array([ 0.03124995], dtype=float32)]\n",
      "600 [array([ 0.38687342], dtype=float32), array([ 0.03239594], dtype=float32)]\n",
      "620 [array([ 0.38785684], dtype=float32), array([ 0.03354357], dtype=float32)]\n",
      "640 [array([ 0.38883436], dtype=float32), array([ 0.03469255], dtype=float32)]\n",
      "660 [array([ 0.38980579], dtype=float32), array([ 0.03584265], dtype=float32)]\n",
      "680 [array([ 0.39077055], dtype=float32), array([ 0.03699362], dtype=float32)]\n",
      "700 [array([ 0.39172831], dtype=float32), array([ 0.03814523], dtype=float32)]\n",
      "720 [array([ 0.39267856], dtype=float32), array([ 0.03929723], dtype=float32)]\n",
      "740 [array([ 0.39362097], dtype=float32), array([ 0.0404494], dtype=float32)]\n",
      "760 [array([ 0.39455509], dtype=float32), array([ 0.04160153], dtype=float32)]\n",
      "780 [array([ 0.39548054], dtype=float32), array([ 0.04275338], dtype=float32)]\n",
      "800 [array([ 0.39639688], dtype=float32), array([ 0.04390476], dtype=float32)]\n",
      "820 [array([ 0.39730361], dtype=float32), array([ 0.04505543], dtype=float32)]\n",
      "840 [array([ 0.39820039], dtype=float32), array([ 0.04620521], dtype=float32)]\n",
      "860 [array([ 0.39908668], dtype=float32), array([ 0.04735389], dtype=float32)]\n",
      "880 [array([ 0.39996216], dtype=float32), array([ 0.04850129], dtype=float32)]\n",
      "900 [array([ 0.40082613], dtype=float32), array([ 0.0496472], dtype=float32)]\n",
      "920 [array([ 0.40167817], dtype=float32), array([ 0.05079145], dtype=float32)]\n",
      "940 [array([ 0.40251812], dtype=float32), array([ 0.05193386], dtype=float32)]\n",
      "960 [array([ 0.40334526], dtype=float32), array([ 0.05307426], dtype=float32)]\n",
      "980 [array([ 0.40415904], dtype=float32), array([ 0.05421247], dtype=float32)]\n",
      "1000 [array([ 0.40495896], dtype=float32), array([ 0.05534833], dtype=float32)]\n"
     ]
    }
   ],
   "source": [
    "# Step 5: Train the graph\n",
    "for step in range(1001):\n",
    "    sess.run(train)\n",
    "    if step % 20 == 0:\n",
    "        print(step, sess.run([W, b]))"
   ]
  },
  {
   "cell_type": "code",
   "execution_count": 9,
   "metadata": {},
   "outputs": [
    {
     "data": {
      "text/plain": [
       "<matplotlib.legend.Legend at 0x7fd5b45da400>"
      ]
     },
     "execution_count": 9,
     "metadata": {},
     "output_type": "execute_result"
    },
    {
     "data": {
      "image/png": "[encoded data removed]",
      "text/plain": [
       "<matplotlib.figure.Figure at 0x7fd5b786c710>"
      ]
     },
     "metadata": {},
     "output_type": "display_data"
    }
   ],
   "source": [
    "pylab.plot(x_data, y_data, '.', label=\"target_values\")\n",
    "# pylab.plot(x_data, y_initial_values, '.', label=\"initial_values\")\n",
    "pylab.plot(x_data, sess.run(y), '.', label=\"trained_values\")\n",
    "pylab.legend()\n",
    "# pylab.ylim(0, 1.0)"
   ]
  },
  {
   "cell_type": "code",
   "execution_count": 11,
   "metadata": {},
   "outputs": [],
   "source": [
    "writer = tf.summary.FileWriter('./my_graph', sess.graph)"
   ]
  },
  {
   "cell_type": "code",
   "execution_count": 12,
   "metadata": {},
   "outputs": [],
   "source": [
    "writer.close()\n",
    "sess.close()"
   ]
  },
  {
   "cell_type": "code",
   "execution_count": null,
   "metadata": {},
   "outputs": [],
   "source": []
  }
 ],
 "metadata": {
  "kernelspec": {
   "display_name": "tensorflow",
   "language": "python",
   "name": "tensorflow"
  },
  "language_info": {
   "codemirror_mode": {
    "name": "ipython",
    "version": 3
   },
   "file_extension": ".py",
   "mimetype": "text/x-python",
   "name": "python",
   "nbconvert_exporter": "python",
   "pygments_lexer": "ipython3",
   "version": "3.5.2"
  }
 },
 "nbformat": 4,
 "nbformat_minor": 2
}
